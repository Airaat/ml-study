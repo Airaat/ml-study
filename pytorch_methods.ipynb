{
  "nbformat": 4,
  "nbformat_minor": 0,
  "metadata": {
    "colab": {
      "provenance": [],
      "gpuType": "T4",
      "authorship_tag": "ABX9TyOfl9V10I+sChjGd9MMd4zb",
      "include_colab_link": true
    },
    "kernelspec": {
      "name": "python3",
      "display_name": "Python 3"
    },
    "language_info": {
      "name": "python"
    }
  },
  "cells": [
    {
      "cell_type": "markdown",
      "metadata": {
        "id": "view-in-github",
        "colab_type": "text"
      },
      "source": [
        "<a href=\"https://colab.research.google.com/github/Airaat/ml-study/blob/main/pytorch_methods.ipynb\" target=\"_parent\"><img src=\"https://colab.research.google.com/assets/colab-badge.svg\" alt=\"Open In Colab\"/></a>"
      ]
    },
    {
      "cell_type": "markdown",
      "source": [
        "# **Лабораторная работа №1 \"Работа с тензорами Pytorch\"**\n",
        "\n"
      ],
      "metadata": {
        "id": "MY5Hi8k9t2NM"
      }
    },
    {
      "cell_type": "markdown",
      "source": [
        "В данном ноутбуке рассматриваются следующие операции над тензорами в библиотеке PyTorch\n",
        "1. torch.cat()\n",
        "2. torch.chunk()\n",
        "3. torch.index_select()\n",
        "4. torch.masked_select()\n",
        "5. torch.narrow()\n",
        "6. torch.nonzero()\n",
        "7. torch.reshape()\n",
        "8. torch.split()\n",
        "9. torch.t()\n",
        "10. torch.take()"
      ],
      "metadata": {
        "id": "RfDA-EmgwXgK"
      }
    },
    {
      "cell_type": "markdown",
      "source": [
        "## torch.cat\n",
        "---\n",
        "\n",
        "> `torch.cat(Tuple of Tensors tensors, Int dim=0, *, Tensor out=None) → Tensor`\n",
        "\n",
        "Объединяет заданную последовательность тензоров `tensors` в заданном измерении `dim`. Все тензоры должны иметь одинаковую форму (за исключением измерения конкатенации) или быть одномерным пустым тензором с размером (0,).\n",
        "\n",
        "\n"
      ],
      "metadata": {
        "id": "JjQT_NtY7Im9"
      }
    },
    {
      "cell_type": "code",
      "source": [
        "import torch\n",
        "\n",
        "a = torch.tensor( [ [1, 2, 3], [4, 5, 6] ] )\n",
        "b = torch.tensor( [ [7, 9, 1], [2, 3, 5] ] )\n",
        "t0 = torch.cat((a, b), 0)\n",
        "t1 = torch.cat((a, b), 1)\n",
        "\n",
        "print(f\"Tensor t0: {t0}\\nTensor t1: {t1}\")"
      ],
      "metadata": {
        "colab": {
          "base_uri": "https://localhost:8080/"
        },
        "id": "bjsKHTJGLVEU",
        "outputId": "277c034c-2c46-4e01-94e4-22ca4f9d01a0"
      },
      "execution_count": null,
      "outputs": [
        {
          "output_type": "stream",
          "name": "stdout",
          "text": [
            "Tensor t0: tensor([[1, 2, 3],\n",
            "        [4, 5, 6],\n",
            "        [7, 9, 1],\n",
            "        [2, 3, 5]])\n",
            "Tensor t1: tensor([[1, 2, 3, 7, 9, 1],\n",
            "        [4, 5, 6, 2, 3, 5]])\n"
          ]
        }
      ]
    },
    {
      "cell_type": "markdown",
      "source": [
        "## **torch.chunk**\n",
        "---\n",
        "> `torch.chunk(Tensor input, Int chunks, Int dim=0) → List of Tensors`\n",
        "\n",
        "Пытается разбить тензор на указанное количество фрагментов. Каждый фрагмент является представлением входного тензора.\n",
        "\n",
        "> **Примечание:**\n",
        "функция может возвращать меньше указанного количества фрагментов!\n",
        "\n",
        "Если размер тензора по заданному измерению `dim` делится на фрагменты `chunks`, все возвращаемые фрагменты будут одинакового размера. Если размер тензора по заданному измерению `dim` не делится на фрагменты, все возвращаемые фрагменты будут одинакового размера, за исключением последнего. Если такое деление невозможно, эта функция может возвращать меньше указанного количества фрагментов."
      ],
      "metadata": {
        "id": "CU4BKJSxMSR2"
      }
    },
    {
      "cell_type": "code",
      "source": [
        "chunked = torch.arange(12).chunk(3)\n",
        "chunked"
      ],
      "metadata": {
        "colab": {
          "base_uri": "https://localhost:8080/"
        },
        "id": "gBuq0EUCMZCd",
        "outputId": "e6c73fb2-176e-4d82-ab27-819d983ba5b0"
      },
      "execution_count": null,
      "outputs": [
        {
          "output_type": "execute_result",
          "data": {
            "text/plain": [
              "(tensor([0, 1, 2, 3]), tensor([4, 5, 6, 7]), tensor([ 8,  9, 10, 11]))"
            ]
          },
          "metadata": {},
          "execution_count": 11
        }
      ]
    },
    {
      "cell_type": "markdown",
      "source": [
        "## **torch.index_select**\n",
        "---\n",
        "> `torch.index_select(Tensor input, Int dim, IntTensor|LongTensor index, *, Tensor out=None) → Tensor`\n",
        "\n",
        "Возвращает новый тензор, который индексирует входной тензор `input` по размерности `dim`, используя записи в `index` типа **LongTensor**.\n",
        "\n",
        "Возвращенный тензор имеет то же количество измерений, что и исходный тензор `input`. Размерность `dim` имеет тот же размер, что и длина `index`; другие измерения имеют тот же размер, что и в исходном тензоре.\n",
        "\n",
        "> **Примечание:** Возвращенный тензор **не использует** то же хранилище, что и исходный тензор. Если `out` имеет форму, отличную от ожидаемой, мы неявно изменяем его на правильную форму, перераспределяя базовое хранилище, если необходимо."
      ],
      "metadata": {
        "id": "Y8hC9f9nNEOO"
      }
    },
    {
      "cell_type": "code",
      "source": [
        "x = torch.randn(3, 4)\n",
        "\n",
        "indices = torch.tensor([0,2])\n",
        "t0 = torch.index_select(x, 0, indices)\n",
        "t1 = torch.index_select(x, 1, indices)\n",
        "\n",
        "print(f\"Original x: {x}\\nTensor t0: {t0} \\nTensor t1: {t1}\")"
      ],
      "metadata": {
        "colab": {
          "base_uri": "https://localhost:8080/"
        },
        "id": "BR4Rkz_-Szqz",
        "outputId": "5626fa90-74f5-4f3a-9998-826101b346bc"
      },
      "execution_count": null,
      "outputs": [
        {
          "output_type": "stream",
          "name": "stdout",
          "text": [
            "Original x: tensor([[ 0.0519,  1.1715,  0.6080,  0.1381],\n",
            "        [ 0.0767,  1.4485, -0.8839, -0.7886],\n",
            "        [-0.8584,  0.5195,  0.1791,  0.8493]])\n",
            "Tensor t0: tensor([[ 0.0519,  1.1715,  0.6080,  0.1381],\n",
            "        [-0.8584,  0.5195,  0.1791,  0.8493]]) \n",
            "Tensor t1: tensor([[ 0.0519,  0.6080],\n",
            "        [ 0.0767, -0.8839],\n",
            "        [-0.8584,  0.1791]])\n"
          ]
        }
      ]
    },
    {
      "cell_type": "markdown",
      "source": [
        "## **torch.masked_select**\n",
        "---\n",
        "> `torch.masked_select(Tensor input, BoolTensor mask, *, Tensor out=None) → Tensor`\n",
        "\n",
        "Возвращает новый одномерный тензор, который индексирует входной тензор `input` в соответствии с булевой маской `mask` типа **BoolTensor**.\n",
        "\n",
        "Формы тензора `mask` и входного тензора `input` не обязательно должны совпадать, но они должны быть транслируемыми."
      ],
      "metadata": {
        "id": "NvnH2Qs5TuSM"
      }
    },
    {
      "cell_type": "code",
      "source": [
        "x = torch.randn(3, 4)\n",
        "\n",
        "mask = x.ge(0.5) # Элементы >= 0.5\n",
        "masked = torch.masked_select(x, mask)\n",
        "\n",
        "print(f\"Original: {x}\\nMask: {mask} \\nNew tensor: {masked}\")"
      ],
      "metadata": {
        "colab": {
          "base_uri": "https://localhost:8080/"
        },
        "id": "xEhG0gP7XnKw",
        "outputId": "29a26d21-4132-4337-98cb-95e87c5cd3c8"
      },
      "execution_count": null,
      "outputs": [
        {
          "output_type": "stream",
          "name": "stdout",
          "text": [
            "Original: tensor([[-0.1109,  0.4837, -0.2886,  0.3495],\n",
            "        [ 2.5799,  0.8670,  0.9530, -1.0203],\n",
            "        [-0.7763,  1.5512, -1.3109,  0.4612]])\n",
            "Mask: tensor([[False, False, False, False],\n",
            "        [ True,  True,  True, False],\n",
            "        [False,  True, False, False]]) \n",
            "New tensor: tensor([2.5799, 0.8670, 0.9530, 1.5512])\n"
          ]
        }
      ]
    },
    {
      "cell_type": "markdown",
      "source": [
        "## **torch.narrow**\n",
        "---\n",
        "> `torch.narrow(Tensor input, Int dim, Int|Tensor start, Int length) → Tensor`\n",
        "\n",
        "Возвращает новый тензор, который является суженной версией входного тензора `input`. Размерность `dim` — это вход от `start` до `start` + `length`. Возвращаемый тензор и входной тензор `input` совместно используют одно и то же базовое хранилище.\n",
        "\n"
      ],
      "metadata": {
        "id": "HnZdumObYyXC"
      }
    },
    {
      "cell_type": "code",
      "source": [
        "x = torch.tensor([[1, 2, 3], [4, 5, 6], [7, 8, 9]])\n",
        "t0 = torch.narrow(x, 0, 0, 2)\n",
        "t1 = torch.narrow(x, 1, 1, 2)\n",
        "t2 = torch.narrow(x, -1, torch.tensor(-1), 1)\n",
        "\n",
        "t1"
      ],
      "metadata": {
        "colab": {
          "base_uri": "https://localhost:8080/"
        },
        "id": "ge9H63z_Zyf6",
        "outputId": "8daf5bc7-e03c-4523-e990-f7260270391e"
      },
      "execution_count": null,
      "outputs": [
        {
          "output_type": "execute_result",
          "data": {
            "text/plain": [
              "tensor([[2, 3],\n",
              "        [5, 6],\n",
              "        [8, 9]])"
            ]
          },
          "metadata": {},
          "execution_count": 3
        }
      ]
    },
    {
      "cell_type": "markdown",
      "source": [
        "## **torch.nonzero**\n",
        "---\n",
        "> ` torch.nonzero(Tensor input, *, out=None, Bool as_tuple=False) → LongTensor or tuple of LongTensors\n",
        "`\n",
        "\n",
        "Когда `as_tuple=False` (по умолчанию):\n",
        "\n",
        "Возвращает тензор, содержащий индексы всех ненулевых элементов `input`. Каждая строка в результате содержит индексы ненулевого элемента `input`. Результат сортируется лексикографически, причем последний индекс изменяется быстрее всего (C-style).\n",
        "\n",
        "Если `input` имеет *n* измерений, то результирующий тензор индексов `out` имеет размер *(z×n)(z×n)*, где *z* — общее количество ненулевых элементов во входном тензоре `input`.\n",
        "\n",
        "Когда `as_tuple=True`:\n",
        "\n",
        "Возвращает кортеж одномерных тензоров, по одному для каждого измерения в `input`, каждый из которых содержит индексы (в этом измерении) всех ненулевых элементов `input`.\n",
        "\n",
        "Если `input` имеет *n* измерений, то результирующий кортеж содержит *n* тензоров размером *z*, где *z* — общее количество ненулевых элементов во входном тензоре.\n",
        "\n",
        "В качестве особого случая, когда `input` имеет нулевое измерение и ненулевое скалярное значение, они рассматриваются как одномерный тензор с одним элементом."
      ],
      "metadata": {
        "id": "Y99D-D4Oq_8V"
      }
    },
    {
      "cell_type": "code",
      "source": [
        "torch.nonzero(torch.tensor([1, 1, 1, 0, 1]))"
      ],
      "metadata": {
        "colab": {
          "base_uri": "https://localhost:8080/"
        },
        "id": "fD_0_xYltSIn",
        "outputId": "e0441feb-4980-4872-cab4-31c73d53ce74"
      },
      "execution_count": null,
      "outputs": [
        {
          "output_type": "execute_result",
          "data": {
            "text/plain": [
              "tensor([[0],\n",
              "        [1],\n",
              "        [2],\n",
              "        [4]])"
            ]
          },
          "metadata": {},
          "execution_count": 3
        }
      ]
    },
    {
      "cell_type": "code",
      "source": [
        "torch.nonzero(torch.tensor([[0.6, 0.0, 0.0, 0.0],\n",
        "                            [0.0, 0.4, 0.0, 0.0],\n",
        "                            [0.0, 0.0, 1.2, 0.0],\n",
        "                            [0.0, 0.0, 0.0,-0.4]]))\n"
      ],
      "metadata": {
        "colab": {
          "base_uri": "https://localhost:8080/"
        },
        "id": "gv7yc0mstmF8",
        "outputId": "c6dc76c7-7d5a-4936-d704-d011333e1c91"
      },
      "execution_count": null,
      "outputs": [
        {
          "output_type": "execute_result",
          "data": {
            "text/plain": [
              "tensor([[0, 0],\n",
              "        [1, 1],\n",
              "        [2, 2],\n",
              "        [3, 3]])"
            ]
          },
          "metadata": {},
          "execution_count": 5
        }
      ]
    },
    {
      "cell_type": "code",
      "source": [
        " torch.nonzero(torch.tensor([1, 1, 1, 0, 1]), as_tuple=True)"
      ],
      "metadata": {
        "colab": {
          "base_uri": "https://localhost:8080/"
        },
        "id": "_RaqKP3mtmkL",
        "outputId": "532cac31-0f5b-4329-fd99-f76c3ead3c2e"
      },
      "execution_count": null,
      "outputs": [
        {
          "output_type": "execute_result",
          "data": {
            "text/plain": [
              "(tensor([0, 1, 2, 4]),)"
            ]
          },
          "metadata": {},
          "execution_count": 6
        }
      ]
    },
    {
      "cell_type": "code",
      "source": [
        "torch.nonzero(torch.tensor([[0.6, 0.0, 0.0, 0.0],\n",
        "                            [0.0, 0.4, 0.0, 0.0],\n",
        "                            [0.0, 0.0, 1.2, 0.0],\n",
        "                            [0.0, 0.0, 0.0,-0.4]]), as_tuple=True)"
      ],
      "metadata": {
        "colab": {
          "base_uri": "https://localhost:8080/"
        },
        "id": "7MWx4ar0vBIG",
        "outputId": "69588c32-bde3-4952-d249-010caba503b1"
      },
      "execution_count": null,
      "outputs": [
        {
          "output_type": "execute_result",
          "data": {
            "text/plain": [
              "(tensor([0, 1, 2, 3]), tensor([0, 1, 2, 3]))"
            ]
          },
          "metadata": {},
          "execution_count": 7
        }
      ]
    },
    {
      "cell_type": "code",
      "source": [
        "torch.nonzero(torch.tensor(5), as_tuple=True)"
      ],
      "metadata": {
        "colab": {
          "base_uri": "https://localhost:8080/"
        },
        "id": "b3pkize5vB2I",
        "outputId": "80d246ba-8604-4f7b-dc8a-136fa441c465"
      },
      "execution_count": null,
      "outputs": [
        {
          "output_type": "execute_result",
          "data": {
            "text/plain": [
              "(tensor([0]),)"
            ]
          },
          "metadata": {},
          "execution_count": 8
        }
      ]
    },
    {
      "cell_type": "markdown",
      "source": [
        "## **tensor.reshape**\n",
        "---\n",
        "> `torch.reshape(Tensor input, Tuple of Int shape) → Tensor`\n",
        "\n",
        "Возвращает тензор с теми же данными и количеством элементов, что `input`, но с указанной формой.\n",
        "\n",
        "Одно измерение может быть -1, и в этом случае оно выводится из оставшихся измерений и количества элементов в `input`."
      ],
      "metadata": {
        "id": "C74vBTKAvrFV"
      }
    },
    {
      "cell_type": "code",
      "source": [
        "a = torch.arange(4.)\n",
        "torch.reshape(a, (2, 2))"
      ],
      "metadata": {
        "id": "FTBOCZSxwa84"
      },
      "execution_count": null,
      "outputs": []
    },
    {
      "cell_type": "code",
      "source": [
        "b = torch.tensor([[0, 1], [2, 3]])\n",
        "torch.reshape(b, (-1,))"
      ],
      "metadata": {
        "id": "duuprBHuweg4",
        "colab": {
          "base_uri": "https://localhost:8080/"
        },
        "outputId": "f98ebf64-0ab3-4507-f05c-1d0b434d3ca7"
      },
      "execution_count": null,
      "outputs": [
        {
          "output_type": "execute_result",
          "data": {
            "text/plain": [
              "tensor([0, 1, 2, 3])"
            ]
          },
          "metadata": {},
          "execution_count": 6
        }
      ]
    },
    {
      "cell_type": "markdown",
      "source": [
        "## **torch.split**\n",
        "---\n",
        "> `torch.split(Tensor tensor, Int|List of Int split_size_or_sections, Int dim=0) -> Tuple of Tensors\n",
        "`\n",
        "\n",
        "Разбивает тензор на части. Каждая часть является представлением исходного тензора.\n",
        "\n",
        "Если `split_size_or_sections` — целочисленный тип, то тензор будет разбит на части одинакового размера (если это возможно). Последняя часть будет меньше, если размер тензора по заданному измерению `dim` не делится на `split_size`.\n",
        "\n",
        "Если `split_size_or_sections` — список, то тензор будет разбит на длину списка с размерами в `dim` в соответствии с его элеметами"
      ],
      "metadata": {
        "id": "1gXkvmO9wkv5"
      }
    },
    {
      "cell_type": "code",
      "source": [
        "a = torch.arange(10).reshape(5, 2)\n",
        "a"
      ],
      "metadata": {
        "colab": {
          "base_uri": "https://localhost:8080/"
        },
        "id": "lt6ULUm4xcLU",
        "outputId": "552e44dd-3910-4ad5-b560-c6cb8b55b827"
      },
      "execution_count": null,
      "outputs": [
        {
          "output_type": "execute_result",
          "data": {
            "text/plain": [
              "tensor([[0, 1],\n",
              "        [2, 3],\n",
              "        [4, 5],\n",
              "        [6, 7],\n",
              "        [8, 9]])"
            ]
          },
          "metadata": {},
          "execution_count": 12
        }
      ]
    },
    {
      "cell_type": "code",
      "source": [
        "torch.split(a, 2)"
      ],
      "metadata": {
        "colab": {
          "base_uri": "https://localhost:8080/"
        },
        "id": "D-j8pj-txebl",
        "outputId": "7c2295a4-1cdb-4f19-f16b-5a9e2fe3f56e"
      },
      "execution_count": null,
      "outputs": [
        {
          "output_type": "execute_result",
          "data": {
            "text/plain": [
              "(tensor([[1, 2, 3],\n",
              "         [4, 5, 6]]),)"
            ]
          },
          "metadata": {},
          "execution_count": 10
        }
      ]
    },
    {
      "cell_type": "code",
      "source": [
        "torch.split(a, [1, 4])"
      ],
      "metadata": {
        "colab": {
          "base_uri": "https://localhost:8080/"
        },
        "id": "oqF_Z_0oxgxQ",
        "outputId": "032e2ce2-5c91-4597-d523-d27e8547519e"
      },
      "execution_count": null,
      "outputs": [
        {
          "output_type": "execute_result",
          "data": {
            "text/plain": [
              "(tensor([[0, 1]]),\n",
              " tensor([[2, 3],\n",
              "         [4, 5],\n",
              "         [6, 7],\n",
              "         [8, 9]]))"
            ]
          },
          "metadata": {},
          "execution_count": 13
        }
      ]
    },
    {
      "cell_type": "markdown",
      "source": [
        "## **torch.t**\n",
        "---\n",
        "> `torch.t(Tensor input) -> Tensor`\n",
        "\n",
        "Ожидается что `input` будет двумерным тензором и транспонирует матрицу.\n",
        "\n",
        "Скалярной значение и вектор останутся без изменений"
      ],
      "metadata": {
        "id": "7HDxV5xhxvnB"
      }
    },
    {
      "cell_type": "code",
      "source": [
        "# Скалярное значение\n",
        "x = torch.randn(())\n",
        "x, torch.t(x)"
      ],
      "metadata": {
        "colab": {
          "base_uri": "https://localhost:8080/"
        },
        "id": "iAKyJoWQyRTz",
        "outputId": "e34883b1-ed50-4541-cc0e-0d54aa2a159d"
      },
      "execution_count": null,
      "outputs": [
        {
          "output_type": "execute_result",
          "data": {
            "text/plain": [
              "(tensor(0.2719), tensor(0.2719))"
            ]
          },
          "metadata": {},
          "execution_count": 20
        }
      ]
    },
    {
      "cell_type": "code",
      "source": [
        "# Одномерный вектор\n",
        "x = torch.randn(3)\n",
        "x, torch.t(x)"
      ],
      "metadata": {
        "colab": {
          "base_uri": "https://localhost:8080/"
        },
        "id": "FSS-zP46yZ4S",
        "outputId": "4e09ef92-8d92-475b-de2b-e847b6d0cab2"
      },
      "execution_count": null,
      "outputs": [
        {
          "output_type": "execute_result",
          "data": {
            "text/plain": [
              "(tensor([0.2025, 0.2695, 0.8593]), tensor([0.2025, 0.2695, 0.8593]))"
            ]
          },
          "metadata": {},
          "execution_count": 18
        }
      ]
    },
    {
      "cell_type": "code",
      "source": [
        "# Матрица\n",
        "x = torch.randn(2, 3)\n",
        "x, torch.t(x)"
      ],
      "metadata": {
        "colab": {
          "base_uri": "https://localhost:8080/"
        },
        "id": "OOE4G-7aykzh",
        "outputId": "8826aa77-374e-4c23-b550-5a9ff7d9ec49"
      },
      "execution_count": null,
      "outputs": [
        {
          "output_type": "execute_result",
          "data": {
            "text/plain": [
              "(tensor([[ 1.4445,  0.5063,  0.9367],\n",
              "         [ 0.1302,  0.3908, -0.1303]]),\n",
              " tensor([[ 1.4445,  0.1302],\n",
              "         [ 0.5063,  0.3908],\n",
              "         [ 0.9367, -0.1303]]))"
            ]
          },
          "metadata": {},
          "execution_count": 19
        }
      ]
    },
    {
      "cell_type": "markdown",
      "source": [
        "## **torch.take**\n",
        "---\n",
        "> `torch.take(Tensor input, LongTensor index) → Tensor`\n",
        "\n",
        "Возвращает новый тензор с элементами `input` по заданным индексам. Входной тензор обрабатывается так, как если бы он рассматривался как одномерный тензор. Результат принимает ту же форму, что и индексы."
      ],
      "metadata": {
        "id": "FYqsfxf7y45e"
      }
    },
    {
      "cell_type": "code",
      "source": [
        "src = torch.tensor([[4, 3, 5],\n",
        "                    [6, 7, 8]])\n",
        "torch.take(src, torch.tensor([0, 2, 5]))"
      ],
      "metadata": {
        "colab": {
          "base_uri": "https://localhost:8080/"
        },
        "id": "zR6-MZSczM6D",
        "outputId": "14fc95f9-d06d-4529-ba67-4876ce66928a"
      },
      "execution_count": null,
      "outputs": [
        {
          "output_type": "execute_result",
          "data": {
            "text/plain": [
              "tensor([4, 5, 8])"
            ]
          },
          "metadata": {},
          "execution_count": 21
        }
      ]
    }
  ]
}